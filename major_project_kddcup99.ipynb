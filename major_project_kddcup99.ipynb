{
  "cells": [
    {
      "cell_type": "markdown",
      "metadata": {
        "id": "view-in-github",
        "colab_type": "text"
      },
      "source": [
        "<a href=\"https://colab.research.google.com/github/mvijay2/ASYMMETRIC-PARALLEL-AUTO-ENCODER/blob/main/major_project_kddcup99.ipynb\" target=\"_parent\"><img src=\"https://colab.research.google.com/assets/colab-badge.svg\" alt=\"Open In Colab\"/></a>"
      ]
    },
    {
      "cell_type": "code",
      "execution_count": null,
      "metadata": {
        "id": "X4gqZczqQDwp"
      },
      "outputs": [],
      "source": [
        "import pandas as pd\n",
        "\n",
        "\n",
        "\n"
      ]
    },
    {
      "cell_type": "code",
      "execution_count": null,
      "metadata": {
        "id": "-4_JGgA2SGQr"
      },
      "outputs": [],
      "source": [
        "df=pd.read_csv(\"/content/drive/MyDrive/major datasets/kddcup99_csv.csv\")"
      ]
    },
    {
      "cell_type": "markdown",
      "metadata": {
        "id": "Rao7WZsEtnPU"
      },
      "source": [
        "preprocessing the dataset"
      ]
    },
    {
      "cell_type": "code",
      "execution_count": null,
      "metadata": {
        "colab": {
          "base_uri": "https://localhost:8080/",
          "height": 299
        },
        "id": "kf1zOzUdu9dQ",
        "outputId": "3be9498a-f8e5-4ddb-cb82-c844f2a6ffd5"
      },
      "outputs": [
        {
          "data": {
            "text/html": [
              "\n",
              "  <div id=\"df-e7623658-7f34-4ac5-a1bf-5f5eee7ceeb5\">\n",
              "    <div class=\"colab-df-container\">\n",
              "      <div>\n",
              "<style scoped>\n",
              "    .dataframe tbody tr th:only-of-type {\n",
              "        vertical-align: middle;\n",
              "    }\n",
              "\n",
              "    .dataframe tbody tr th {\n",
              "        vertical-align: top;\n",
              "    }\n",
              "\n",
              "    .dataframe thead th {\n",
              "        text-align: right;\n",
              "    }\n",
              "</style>\n",
              "<table border=\"1\" class=\"dataframe\">\n",
              "  <thead>\n",
              "    <tr style=\"text-align: right;\">\n",
              "      <th></th>\n",
              "      <th>duration</th>\n",
              "      <th>protocol_type</th>\n",
              "      <th>service</th>\n",
              "      <th>flag</th>\n",
              "      <th>src_bytes</th>\n",
              "      <th>dst_bytes</th>\n",
              "      <th>land</th>\n",
              "      <th>wrong_fragment</th>\n",
              "      <th>urgent</th>\n",
              "      <th>hot</th>\n",
              "      <th>...</th>\n",
              "      <th>dst_host_srv_count</th>\n",
              "      <th>dst_host_same_srv_rate</th>\n",
              "      <th>dst_host_diff_srv_rate</th>\n",
              "      <th>dst_host_same_src_port_rate</th>\n",
              "      <th>dst_host_srv_diff_host_rate</th>\n",
              "      <th>dst_host_serror_rate</th>\n",
              "      <th>dst_host_srv_serror_rate</th>\n",
              "      <th>dst_host_rerror_rate</th>\n",
              "      <th>dst_host_srv_rerror_rate</th>\n",
              "      <th>label</th>\n",
              "    </tr>\n",
              "  </thead>\n",
              "  <tbody>\n",
              "    <tr>\n",
              "      <th>0</th>\n",
              "      <td>0</td>\n",
              "      <td>tcp</td>\n",
              "      <td>http</td>\n",
              "      <td>SF</td>\n",
              "      <td>181</td>\n",
              "      <td>5450</td>\n",
              "      <td>0</td>\n",
              "      <td>0</td>\n",
              "      <td>0</td>\n",
              "      <td>0</td>\n",
              "      <td>...</td>\n",
              "      <td>9</td>\n",
              "      <td>1.0</td>\n",
              "      <td>0.0</td>\n",
              "      <td>0.11</td>\n",
              "      <td>0.0</td>\n",
              "      <td>0.0</td>\n",
              "      <td>0.0</td>\n",
              "      <td>0.0</td>\n",
              "      <td>0.0</td>\n",
              "      <td>normal</td>\n",
              "    </tr>\n",
              "    <tr>\n",
              "      <th>1</th>\n",
              "      <td>0</td>\n",
              "      <td>tcp</td>\n",
              "      <td>http</td>\n",
              "      <td>SF</td>\n",
              "      <td>239</td>\n",
              "      <td>486</td>\n",
              "      <td>0</td>\n",
              "      <td>0</td>\n",
              "      <td>0</td>\n",
              "      <td>0</td>\n",
              "      <td>...</td>\n",
              "      <td>19</td>\n",
              "      <td>1.0</td>\n",
              "      <td>0.0</td>\n",
              "      <td>0.05</td>\n",
              "      <td>0.0</td>\n",
              "      <td>0.0</td>\n",
              "      <td>0.0</td>\n",
              "      <td>0.0</td>\n",
              "      <td>0.0</td>\n",
              "      <td>normal</td>\n",
              "    </tr>\n",
              "    <tr>\n",
              "      <th>2</th>\n",
              "      <td>0</td>\n",
              "      <td>tcp</td>\n",
              "      <td>http</td>\n",
              "      <td>SF</td>\n",
              "      <td>235</td>\n",
              "      <td>1337</td>\n",
              "      <td>0</td>\n",
              "      <td>0</td>\n",
              "      <td>0</td>\n",
              "      <td>0</td>\n",
              "      <td>...</td>\n",
              "      <td>29</td>\n",
              "      <td>1.0</td>\n",
              "      <td>0.0</td>\n",
              "      <td>0.03</td>\n",
              "      <td>0.0</td>\n",
              "      <td>0.0</td>\n",
              "      <td>0.0</td>\n",
              "      <td>0.0</td>\n",
              "      <td>0.0</td>\n",
              "      <td>normal</td>\n",
              "    </tr>\n",
              "    <tr>\n",
              "      <th>3</th>\n",
              "      <td>0</td>\n",
              "      <td>tcp</td>\n",
              "      <td>http</td>\n",
              "      <td>SF</td>\n",
              "      <td>219</td>\n",
              "      <td>1337</td>\n",
              "      <td>0</td>\n",
              "      <td>0</td>\n",
              "      <td>0</td>\n",
              "      <td>0</td>\n",
              "      <td>...</td>\n",
              "      <td>39</td>\n",
              "      <td>1.0</td>\n",
              "      <td>0.0</td>\n",
              "      <td>0.03</td>\n",
              "      <td>0.0</td>\n",
              "      <td>0.0</td>\n",
              "      <td>0.0</td>\n",
              "      <td>0.0</td>\n",
              "      <td>0.0</td>\n",
              "      <td>normal</td>\n",
              "    </tr>\n",
              "    <tr>\n",
              "      <th>4</th>\n",
              "      <td>0</td>\n",
              "      <td>tcp</td>\n",
              "      <td>http</td>\n",
              "      <td>SF</td>\n",
              "      <td>217</td>\n",
              "      <td>2032</td>\n",
              "      <td>0</td>\n",
              "      <td>0</td>\n",
              "      <td>0</td>\n",
              "      <td>0</td>\n",
              "      <td>...</td>\n",
              "      <td>49</td>\n",
              "      <td>1.0</td>\n",
              "      <td>0.0</td>\n",
              "      <td>0.02</td>\n",
              "      <td>0.0</td>\n",
              "      <td>0.0</td>\n",
              "      <td>0.0</td>\n",
              "      <td>0.0</td>\n",
              "      <td>0.0</td>\n",
              "      <td>normal</td>\n",
              "    </tr>\n",
              "  </tbody>\n",
              "</table>\n",
              "<p>5 rows × 42 columns</p>\n",
              "</div>\n",
              "      <button class=\"colab-df-convert\" onclick=\"convertToInteractive('df-e7623658-7f34-4ac5-a1bf-5f5eee7ceeb5')\"\n",
              "              title=\"Convert this dataframe to an interactive table.\"\n",
              "              style=\"display:none;\">\n",
              "        \n",
              "  <svg xmlns=\"http://www.w3.org/2000/svg\" height=\"24px\"viewBox=\"0 0 24 24\"\n",
              "       width=\"24px\">\n",
              "    <path d=\"M0 0h24v24H0V0z\" fill=\"none\"/>\n",
              "    <path d=\"M18.56 5.44l.94 2.06.94-2.06 2.06-.94-2.06-.94-.94-2.06-.94 2.06-2.06.94zm-11 1L8.5 8.5l.94-2.06 2.06-.94-2.06-.94L8.5 2.5l-.94 2.06-2.06.94zm10 10l.94 2.06.94-2.06 2.06-.94-2.06-.94-.94-2.06-.94 2.06-2.06.94z\"/><path d=\"M17.41 7.96l-1.37-1.37c-.4-.4-.92-.59-1.43-.59-.52 0-1.04.2-1.43.59L10.3 9.45l-7.72 7.72c-.78.78-.78 2.05 0 2.83L4 21.41c.39.39.9.59 1.41.59.51 0 1.02-.2 1.41-.59l7.78-7.78 2.81-2.81c.8-.78.8-2.07 0-2.86zM5.41 20L4 18.59l7.72-7.72 1.47 1.35L5.41 20z\"/>\n",
              "  </svg>\n",
              "      </button>\n",
              "      \n",
              "  <style>\n",
              "    .colab-df-container {\n",
              "      display:flex;\n",
              "      flex-wrap:wrap;\n",
              "      gap: 12px;\n",
              "    }\n",
              "\n",
              "    .colab-df-convert {\n",
              "      background-color: #E8F0FE;\n",
              "      border: none;\n",
              "      border-radius: 50%;\n",
              "      cursor: pointer;\n",
              "      display: none;\n",
              "      fill: #1967D2;\n",
              "      height: 32px;\n",
              "      padding: 0 0 0 0;\n",
              "      width: 32px;\n",
              "    }\n",
              "\n",
              "    .colab-df-convert:hover {\n",
              "      background-color: #E2EBFA;\n",
              "      box-shadow: 0px 1px 2px rgba(60, 64, 67, 0.3), 0px 1px 3px 1px rgba(60, 64, 67, 0.15);\n",
              "      fill: #174EA6;\n",
              "    }\n",
              "\n",
              "    [theme=dark] .colab-df-convert {\n",
              "      background-color: #3B4455;\n",
              "      fill: #D2E3FC;\n",
              "    }\n",
              "\n",
              "    [theme=dark] .colab-df-convert:hover {\n",
              "      background-color: #434B5C;\n",
              "      box-shadow: 0px 1px 3px 1px rgba(0, 0, 0, 0.15);\n",
              "      filter: drop-shadow(0px 1px 2px rgba(0, 0, 0, 0.3));\n",
              "      fill: #FFFFFF;\n",
              "    }\n",
              "  </style>\n",
              "\n",
              "      <script>\n",
              "        const buttonEl =\n",
              "          document.querySelector('#df-e7623658-7f34-4ac5-a1bf-5f5eee7ceeb5 button.colab-df-convert');\n",
              "        buttonEl.style.display =\n",
              "          google.colab.kernel.accessAllowed ? 'block' : 'none';\n",
              "\n",
              "        async function convertToInteractive(key) {\n",
              "          const element = document.querySelector('#df-e7623658-7f34-4ac5-a1bf-5f5eee7ceeb5');\n",
              "          const dataTable =\n",
              "            await google.colab.kernel.invokeFunction('convertToInteractive',\n",
              "                                                     [key], {});\n",
              "          if (!dataTable) return;\n",
              "\n",
              "          const docLinkHtml = 'Like what you see? Visit the ' +\n",
              "            '<a target=\"_blank\" href=https://colab.research.google.com/notebooks/data_table.ipynb>data table notebook</a>'\n",
              "            + ' to learn more about interactive tables.';\n",
              "          element.innerHTML = '';\n",
              "          dataTable['output_type'] = 'display_data';\n",
              "          await google.colab.output.renderOutput(dataTable, element);\n",
              "          const docLink = document.createElement('div');\n",
              "          docLink.innerHTML = docLinkHtml;\n",
              "          element.appendChild(docLink);\n",
              "        }\n",
              "      </script>\n",
              "    </div>\n",
              "  </div>\n",
              "  "
            ],
            "text/plain": [
              "   duration protocol_type service flag  src_bytes  dst_bytes  land  \\\n",
              "0         0           tcp    http   SF        181       5450     0   \n",
              "1         0           tcp    http   SF        239        486     0   \n",
              "2         0           tcp    http   SF        235       1337     0   \n",
              "3         0           tcp    http   SF        219       1337     0   \n",
              "4         0           tcp    http   SF        217       2032     0   \n",
              "\n",
              "   wrong_fragment  urgent  hot  ...  dst_host_srv_count  \\\n",
              "0               0       0    0  ...                   9   \n",
              "1               0       0    0  ...                  19   \n",
              "2               0       0    0  ...                  29   \n",
              "3               0       0    0  ...                  39   \n",
              "4               0       0    0  ...                  49   \n",
              "\n",
              "   dst_host_same_srv_rate  dst_host_diff_srv_rate  \\\n",
              "0                     1.0                     0.0   \n",
              "1                     1.0                     0.0   \n",
              "2                     1.0                     0.0   \n",
              "3                     1.0                     0.0   \n",
              "4                     1.0                     0.0   \n",
              "\n",
              "   dst_host_same_src_port_rate  dst_host_srv_diff_host_rate  \\\n",
              "0                         0.11                          0.0   \n",
              "1                         0.05                          0.0   \n",
              "2                         0.03                          0.0   \n",
              "3                         0.03                          0.0   \n",
              "4                         0.02                          0.0   \n",
              "\n",
              "   dst_host_serror_rate  dst_host_srv_serror_rate  dst_host_rerror_rate  \\\n",
              "0                   0.0                       0.0                   0.0   \n",
              "1                   0.0                       0.0                   0.0   \n",
              "2                   0.0                       0.0                   0.0   \n",
              "3                   0.0                       0.0                   0.0   \n",
              "4                   0.0                       0.0                   0.0   \n",
              "\n",
              "   dst_host_srv_rerror_rate   label  \n",
              "0                       0.0  normal  \n",
              "1                       0.0  normal  \n",
              "2                       0.0  normal  \n",
              "3                       0.0  normal  \n",
              "4                       0.0  normal  \n",
              "\n",
              "[5 rows x 42 columns]"
            ]
          },
          "execution_count": 3,
          "metadata": {},
          "output_type": "execute_result"
        }
      ],
      "source": [
        "df.head()"
      ]
    },
    {
      "cell_type": "code",
      "execution_count": null,
      "metadata": {
        "id": "ve4256RKAJfI"
      },
      "outputs": [],
      "source": [
        "\n",
        "\n",
        "# Identify float value columns\n",
        "float_columns = df.select_dtypes(include=['float'])\n",
        "\n",
        "# Convert float columns to integers\n",
        "int_columns = float_columns.astype(int)\n",
        "\n",
        "# Replace float columns with integer columns\n",
        "df[float_columns.columns] = int_columns\n",
        "\n",
        "\n",
        "\n",
        "\n"
      ]
    },
    {
      "cell_type": "code",
      "execution_count": null,
      "metadata": {
        "colab": {
          "base_uri": "https://localhost:8080/"
        },
        "id": "Ktm39LDiT0bT",
        "outputId": "5537500d-108d-41b8-cc1f-b55dba6afc43"
      },
      "outputs": [
        {
          "name": "stdout",
          "output_type": "stream",
          "text": [
            "<class 'pandas.core.frame.DataFrame'>\n",
            "RangeIndex: 494020 entries, 0 to 494019\n",
            "Data columns (total 42 columns):\n",
            " #   Column                       Non-Null Count   Dtype \n",
            "---  ------                       --------------   ----- \n",
            " 0   duration                     494020 non-null  int64 \n",
            " 1   protocol_type                494020 non-null  object\n",
            " 2   service                      494020 non-null  object\n",
            " 3   flag                         494020 non-null  object\n",
            " 4   src_bytes                    494020 non-null  int64 \n",
            " 5   dst_bytes                    494020 non-null  int64 \n",
            " 6   land                         494020 non-null  int64 \n",
            " 7   wrong_fragment               494020 non-null  int64 \n",
            " 8   urgent                       494020 non-null  int64 \n",
            " 9   hot                          494020 non-null  int64 \n",
            " 10  num_failed_logins            494020 non-null  int64 \n",
            " 11  logged_in                    494020 non-null  int64 \n",
            " 12  lnum_compromised             494020 non-null  int64 \n",
            " 13  lroot_shell                  494020 non-null  int64 \n",
            " 14  lsu_attempted                494020 non-null  int64 \n",
            " 15  lnum_root                    494020 non-null  int64 \n",
            " 16  lnum_file_creations          494020 non-null  int64 \n",
            " 17  lnum_shells                  494020 non-null  int64 \n",
            " 18  lnum_access_files            494020 non-null  int64 \n",
            " 19  lnum_outbound_cmds           494020 non-null  int64 \n",
            " 20  is_host_login                494020 non-null  int64 \n",
            " 21  is_guest_login               494020 non-null  int64 \n",
            " 22  count                        494020 non-null  int64 \n",
            " 23  srv_count                    494020 non-null  int64 \n",
            " 24  serror_rate                  494020 non-null  int64 \n",
            " 25  srv_serror_rate              494020 non-null  int64 \n",
            " 26  rerror_rate                  494020 non-null  int64 \n",
            " 27  srv_rerror_rate              494020 non-null  int64 \n",
            " 28  same_srv_rate                494020 non-null  int64 \n",
            " 29  diff_srv_rate                494020 non-null  int64 \n",
            " 30  srv_diff_host_rate           494020 non-null  int64 \n",
            " 31  dst_host_count               494020 non-null  int64 \n",
            " 32  dst_host_srv_count           494020 non-null  int64 \n",
            " 33  dst_host_same_srv_rate       494020 non-null  int64 \n",
            " 34  dst_host_diff_srv_rate       494020 non-null  int64 \n",
            " 35  dst_host_same_src_port_rate  494020 non-null  int64 \n",
            " 36  dst_host_srv_diff_host_rate  494020 non-null  int64 \n",
            " 37  dst_host_serror_rate         494020 non-null  int64 \n",
            " 38  dst_host_srv_serror_rate     494020 non-null  int64 \n",
            " 39  dst_host_rerror_rate         494020 non-null  int64 \n",
            " 40  dst_host_srv_rerror_rate     494020 non-null  int64 \n",
            " 41  label                        494020 non-null  object\n",
            "dtypes: int64(38), object(4)\n",
            "memory usage: 158.3+ MB\n"
          ]
        }
      ],
      "source": [
        "df.info()"
      ]
    },
    {
      "cell_type": "code",
      "execution_count": null,
      "metadata": {
        "id": "qVxeIliw9cKm"
      },
      "outputs": [],
      "source": [
        "from sklearn.preprocessing import LabelEncoder\n",
        "\n",
        "le = LabelEncoder()\n",
        "df[\"protocol_type\"] = le.fit_transform(df[\"protocol_type\"])\n",
        "df[\"service\"] = le.fit_transform(df[\"service\"])\n",
        "df[\"flag\"] = le.fit_transform(df[\"flag\"])\n"
      ]
    },
    {
      "cell_type": "code",
      "execution_count": null,
      "metadata": {
        "id": "56Li9B2sraxa"
      },
      "outputs": [],
      "source": [
        "#df=df.replace([\"float64\"],regret=True,astype(int))"
      ]
    },
    {
      "cell_type": "markdown",
      "metadata": {
        "id": "heWGPdk8GLbj"
      },
      "source": [
        "Here, data is the name of your dataset and your_dataset.csv is the name of your dataset file. The select_dtypes() method selects all columns with object dtype (categorical columns) and the factorize() method converts them into numerical codes."
      ]
    },
    {
      "cell_type": "code",
      "execution_count": null,
      "metadata": {
        "colab": {
          "base_uri": "https://localhost:8080/"
        },
        "id": "-QRdEAEgLY4G",
        "outputId": "9142e6fe-6665-4c22-a929-435b61d634ff"
      },
      "outputs": [
        {
          "data": {
            "text/plain": [
              "smurf              280790\n",
              "neptune            107201\n",
              "normal              97277\n",
              "back                 2203\n",
              "satan                1589\n",
              "ipsweep              1247\n",
              "portsweep            1040\n",
              "warezclient          1020\n",
              "teardrop              979\n",
              "pod                   264\n",
              "nmap                  231\n",
              "guess_passwd           53\n",
              "buffer_overflow        30\n",
              "land                   21\n",
              "warezmaster            20\n",
              "imap                   12\n",
              "rootkit                10\n",
              "loadmodule              9\n",
              "ftp_write               8\n",
              "multihop                7\n",
              "phf                     4\n",
              "perl                    3\n",
              "spy                     2\n",
              "Name: label, dtype: int64"
            ]
          },
          "execution_count": 8,
          "metadata": {},
          "output_type": "execute_result"
        }
      ],
      "source": [
        "df[\"label\"].value_counts()"
      ]
    },
    {
      "cell_type": "code",
      "execution_count": null,
      "metadata": {
        "id": "tXITml2KRsAU"
      },
      "outputs": [],
      "source": [
        "df1=df[\"label\"]"
      ]
    },
    {
      "cell_type": "code",
      "execution_count": null,
      "metadata": {
        "id": "milOz_J-IbkS"
      },
      "outputs": [],
      "source": [
        "newdf=df1.replace({\"normal\":0 ,\"back\":1 ,\"smurf\":1 ,\"neptune\":1 ,\"satan\":1 ,\"ipsweep\":1 ,\"portsweep\":1 ,\"warezclient\":1 ,\"teardrop\":1 ,\"pod\":1 ,\"nmap\":1 ,\"guess_passwd\":1 ,\"buffer_overflow\":1 ,\"land\":1 ,\"warezmaster\":1 ,\"imap\":1 ,\"rootkit\":1 ,\"loadmodule\":1,\"loadmoduleftp_write\":1 ,\"multihop\":1 ,\"phf\":1 ,\"perl\":1 ,\"spy\":1 ,\"ftp_write\":1})\n"
      ]
    },
    {
      "cell_type": "code",
      "execution_count": null,
      "metadata": {
        "colab": {
          "base_uri": "https://localhost:8080/"
        },
        "id": "bLOGUYn0lMG6",
        "outputId": "5067aeb1-b93c-492a-f00a-ab2bb0866c58"
      },
      "outputs": [
        {
          "data": {
            "text/plain": [
              "0    0\n",
              "1    0\n",
              "2    0\n",
              "3    0\n",
              "4    0\n",
              "Name: label, dtype: int64"
            ]
          },
          "execution_count": 11,
          "metadata": {},
          "output_type": "execute_result"
        }
      ],
      "source": [
        "df[\"label\"]=newdf\n",
        "newdf.head()"
      ]
    },
    {
      "cell_type": "code",
      "execution_count": null,
      "metadata": {
        "colab": {
          "base_uri": "https://localhost:8080/"
        },
        "id": "5mLWJLMTEE_g",
        "outputId": "95a79556-6fbc-4eeb-a8f9-390356c53cab"
      },
      "outputs": [
        {
          "name": "stdout",
          "output_type": "stream",
          "text": [
            "<class 'pandas.core.frame.DataFrame'>\n",
            "RangeIndex: 494020 entries, 0 to 494019\n",
            "Data columns (total 42 columns):\n",
            " #   Column                       Non-Null Count   Dtype\n",
            "---  ------                       --------------   -----\n",
            " 0   duration                     494020 non-null  int64\n",
            " 1   protocol_type                494020 non-null  int64\n",
            " 2   service                      494020 non-null  int64\n",
            " 3   flag                         494020 non-null  int64\n",
            " 4   src_bytes                    494020 non-null  int64\n",
            " 5   dst_bytes                    494020 non-null  int64\n",
            " 6   land                         494020 non-null  int64\n",
            " 7   wrong_fragment               494020 non-null  int64\n",
            " 8   urgent                       494020 non-null  int64\n",
            " 9   hot                          494020 non-null  int64\n",
            " 10  num_failed_logins            494020 non-null  int64\n",
            " 11  logged_in                    494020 non-null  int64\n",
            " 12  lnum_compromised             494020 non-null  int64\n",
            " 13  lroot_shell                  494020 non-null  int64\n",
            " 14  lsu_attempted                494020 non-null  int64\n",
            " 15  lnum_root                    494020 non-null  int64\n",
            " 16  lnum_file_creations          494020 non-null  int64\n",
            " 17  lnum_shells                  494020 non-null  int64\n",
            " 18  lnum_access_files            494020 non-null  int64\n",
            " 19  lnum_outbound_cmds           494020 non-null  int64\n",
            " 20  is_host_login                494020 non-null  int64\n",
            " 21  is_guest_login               494020 non-null  int64\n",
            " 22  count                        494020 non-null  int64\n",
            " 23  srv_count                    494020 non-null  int64\n",
            " 24  serror_rate                  494020 non-null  int64\n",
            " 25  srv_serror_rate              494020 non-null  int64\n",
            " 26  rerror_rate                  494020 non-null  int64\n",
            " 27  srv_rerror_rate              494020 non-null  int64\n",
            " 28  same_srv_rate                494020 non-null  int64\n",
            " 29  diff_srv_rate                494020 non-null  int64\n",
            " 30  srv_diff_host_rate           494020 non-null  int64\n",
            " 31  dst_host_count               494020 non-null  int64\n",
            " 32  dst_host_srv_count           494020 non-null  int64\n",
            " 33  dst_host_same_srv_rate       494020 non-null  int64\n",
            " 34  dst_host_diff_srv_rate       494020 non-null  int64\n",
            " 35  dst_host_same_src_port_rate  494020 non-null  int64\n",
            " 36  dst_host_srv_diff_host_rate  494020 non-null  int64\n",
            " 37  dst_host_serror_rate         494020 non-null  int64\n",
            " 38  dst_host_srv_serror_rate     494020 non-null  int64\n",
            " 39  dst_host_rerror_rate         494020 non-null  int64\n",
            " 40  dst_host_srv_rerror_rate     494020 non-null  int64\n",
            " 41  label                        494020 non-null  int64\n",
            "dtypes: int64(42)\n",
            "memory usage: 158.3 MB\n"
          ]
        }
      ],
      "source": [
        "df.info()"
      ]
    },
    {
      "cell_type": "code",
      "execution_count": null,
      "metadata": {
        "id": "dGwd2QWIH3ht"
      },
      "outputs": [],
      "source": [
        "df.isnull()\n",
        "df.isnull().sum().sum()\n",
        "df.dropna(inplace=True)\n"
      ]
    },
    {
      "cell_type": "code",
      "execution_count": null,
      "metadata": {
        "colab": {
          "base_uri": "https://localhost:8080/",
          "height": 299
        },
        "id": "dK9OEIdYm_Cv",
        "outputId": "880ee9ad-f8bc-4f21-8b06-43b50af377cc"
      },
      "outputs": [
        {
          "data": {
            "text/html": [
              "\n",
              "  <div id=\"df-c86249d1-aaf0-4766-9311-890b98d374be\">\n",
              "    <div class=\"colab-df-container\">\n",
              "      <div>\n",
              "<style scoped>\n",
              "    .dataframe tbody tr th:only-of-type {\n",
              "        vertical-align: middle;\n",
              "    }\n",
              "\n",
              "    .dataframe tbody tr th {\n",
              "        vertical-align: top;\n",
              "    }\n",
              "\n",
              "    .dataframe thead th {\n",
              "        text-align: right;\n",
              "    }\n",
              "</style>\n",
              "<table border=\"1\" class=\"dataframe\">\n",
              "  <thead>\n",
              "    <tr style=\"text-align: right;\">\n",
              "      <th></th>\n",
              "      <th>duration</th>\n",
              "      <th>protocol_type</th>\n",
              "      <th>service</th>\n",
              "      <th>flag</th>\n",
              "      <th>src_bytes</th>\n",
              "      <th>dst_bytes</th>\n",
              "      <th>land</th>\n",
              "      <th>wrong_fragment</th>\n",
              "      <th>urgent</th>\n",
              "      <th>hot</th>\n",
              "      <th>...</th>\n",
              "      <th>dst_host_count</th>\n",
              "      <th>dst_host_srv_count</th>\n",
              "      <th>dst_host_same_srv_rate</th>\n",
              "      <th>dst_host_diff_srv_rate</th>\n",
              "      <th>dst_host_same_src_port_rate</th>\n",
              "      <th>dst_host_srv_diff_host_rate</th>\n",
              "      <th>dst_host_serror_rate</th>\n",
              "      <th>dst_host_srv_serror_rate</th>\n",
              "      <th>dst_host_rerror_rate</th>\n",
              "      <th>dst_host_srv_rerror_rate</th>\n",
              "    </tr>\n",
              "  </thead>\n",
              "  <tbody>\n",
              "    <tr>\n",
              "      <th>0</th>\n",
              "      <td>0</td>\n",
              "      <td>1</td>\n",
              "      <td>22</td>\n",
              "      <td>9</td>\n",
              "      <td>181</td>\n",
              "      <td>5450</td>\n",
              "      <td>0</td>\n",
              "      <td>0</td>\n",
              "      <td>0</td>\n",
              "      <td>0</td>\n",
              "      <td>...</td>\n",
              "      <td>9</td>\n",
              "      <td>9</td>\n",
              "      <td>1</td>\n",
              "      <td>0</td>\n",
              "      <td>0</td>\n",
              "      <td>0</td>\n",
              "      <td>0</td>\n",
              "      <td>0</td>\n",
              "      <td>0</td>\n",
              "      <td>0</td>\n",
              "    </tr>\n",
              "    <tr>\n",
              "      <th>1</th>\n",
              "      <td>0</td>\n",
              "      <td>1</td>\n",
              "      <td>22</td>\n",
              "      <td>9</td>\n",
              "      <td>239</td>\n",
              "      <td>486</td>\n",
              "      <td>0</td>\n",
              "      <td>0</td>\n",
              "      <td>0</td>\n",
              "      <td>0</td>\n",
              "      <td>...</td>\n",
              "      <td>19</td>\n",
              "      <td>19</td>\n",
              "      <td>1</td>\n",
              "      <td>0</td>\n",
              "      <td>0</td>\n",
              "      <td>0</td>\n",
              "      <td>0</td>\n",
              "      <td>0</td>\n",
              "      <td>0</td>\n",
              "      <td>0</td>\n",
              "    </tr>\n",
              "    <tr>\n",
              "      <th>2</th>\n",
              "      <td>0</td>\n",
              "      <td>1</td>\n",
              "      <td>22</td>\n",
              "      <td>9</td>\n",
              "      <td>235</td>\n",
              "      <td>1337</td>\n",
              "      <td>0</td>\n",
              "      <td>0</td>\n",
              "      <td>0</td>\n",
              "      <td>0</td>\n",
              "      <td>...</td>\n",
              "      <td>29</td>\n",
              "      <td>29</td>\n",
              "      <td>1</td>\n",
              "      <td>0</td>\n",
              "      <td>0</td>\n",
              "      <td>0</td>\n",
              "      <td>0</td>\n",
              "      <td>0</td>\n",
              "      <td>0</td>\n",
              "      <td>0</td>\n",
              "    </tr>\n",
              "    <tr>\n",
              "      <th>3</th>\n",
              "      <td>0</td>\n",
              "      <td>1</td>\n",
              "      <td>22</td>\n",
              "      <td>9</td>\n",
              "      <td>219</td>\n",
              "      <td>1337</td>\n",
              "      <td>0</td>\n",
              "      <td>0</td>\n",
              "      <td>0</td>\n",
              "      <td>0</td>\n",
              "      <td>...</td>\n",
              "      <td>39</td>\n",
              "      <td>39</td>\n",
              "      <td>1</td>\n",
              "      <td>0</td>\n",
              "      <td>0</td>\n",
              "      <td>0</td>\n",
              "      <td>0</td>\n",
              "      <td>0</td>\n",
              "      <td>0</td>\n",
              "      <td>0</td>\n",
              "    </tr>\n",
              "    <tr>\n",
              "      <th>4</th>\n",
              "      <td>0</td>\n",
              "      <td>1</td>\n",
              "      <td>22</td>\n",
              "      <td>9</td>\n",
              "      <td>217</td>\n",
              "      <td>2032</td>\n",
              "      <td>0</td>\n",
              "      <td>0</td>\n",
              "      <td>0</td>\n",
              "      <td>0</td>\n",
              "      <td>...</td>\n",
              "      <td>49</td>\n",
              "      <td>49</td>\n",
              "      <td>1</td>\n",
              "      <td>0</td>\n",
              "      <td>0</td>\n",
              "      <td>0</td>\n",
              "      <td>0</td>\n",
              "      <td>0</td>\n",
              "      <td>0</td>\n",
              "      <td>0</td>\n",
              "    </tr>\n",
              "  </tbody>\n",
              "</table>\n",
              "<p>5 rows × 41 columns</p>\n",
              "</div>\n",
              "      <button class=\"colab-df-convert\" onclick=\"convertToInteractive('df-c86249d1-aaf0-4766-9311-890b98d374be')\"\n",
              "              title=\"Convert this dataframe to an interactive table.\"\n",
              "              style=\"display:none;\">\n",
              "        \n",
              "  <svg xmlns=\"http://www.w3.org/2000/svg\" height=\"24px\"viewBox=\"0 0 24 24\"\n",
              "       width=\"24px\">\n",
              "    <path d=\"M0 0h24v24H0V0z\" fill=\"none\"/>\n",
              "    <path d=\"M18.56 5.44l.94 2.06.94-2.06 2.06-.94-2.06-.94-.94-2.06-.94 2.06-2.06.94zm-11 1L8.5 8.5l.94-2.06 2.06-.94-2.06-.94L8.5 2.5l-.94 2.06-2.06.94zm10 10l.94 2.06.94-2.06 2.06-.94-2.06-.94-.94-2.06-.94 2.06-2.06.94z\"/><path d=\"M17.41 7.96l-1.37-1.37c-.4-.4-.92-.59-1.43-.59-.52 0-1.04.2-1.43.59L10.3 9.45l-7.72 7.72c-.78.78-.78 2.05 0 2.83L4 21.41c.39.39.9.59 1.41.59.51 0 1.02-.2 1.41-.59l7.78-7.78 2.81-2.81c.8-.78.8-2.07 0-2.86zM5.41 20L4 18.59l7.72-7.72 1.47 1.35L5.41 20z\"/>\n",
              "  </svg>\n",
              "      </button>\n",
              "      \n",
              "  <style>\n",
              "    .colab-df-container {\n",
              "      display:flex;\n",
              "      flex-wrap:wrap;\n",
              "      gap: 12px;\n",
              "    }\n",
              "\n",
              "    .colab-df-convert {\n",
              "      background-color: #E8F0FE;\n",
              "      border: none;\n",
              "      border-radius: 50%;\n",
              "      cursor: pointer;\n",
              "      display: none;\n",
              "      fill: #1967D2;\n",
              "      height: 32px;\n",
              "      padding: 0 0 0 0;\n",
              "      width: 32px;\n",
              "    }\n",
              "\n",
              "    .colab-df-convert:hover {\n",
              "      background-color: #E2EBFA;\n",
              "      box-shadow: 0px 1px 2px rgba(60, 64, 67, 0.3), 0px 1px 3px 1px rgba(60, 64, 67, 0.15);\n",
              "      fill: #174EA6;\n",
              "    }\n",
              "\n",
              "    [theme=dark] .colab-df-convert {\n",
              "      background-color: #3B4455;\n",
              "      fill: #D2E3FC;\n",
              "    }\n",
              "\n",
              "    [theme=dark] .colab-df-convert:hover {\n",
              "      background-color: #434B5C;\n",
              "      box-shadow: 0px 1px 3px 1px rgba(0, 0, 0, 0.15);\n",
              "      filter: drop-shadow(0px 1px 2px rgba(0, 0, 0, 0.3));\n",
              "      fill: #FFFFFF;\n",
              "    }\n",
              "  </style>\n",
              "\n",
              "      <script>\n",
              "        const buttonEl =\n",
              "          document.querySelector('#df-c86249d1-aaf0-4766-9311-890b98d374be button.colab-df-convert');\n",
              "        buttonEl.style.display =\n",
              "          google.colab.kernel.accessAllowed ? 'block' : 'none';\n",
              "\n",
              "        async function convertToInteractive(key) {\n",
              "          const element = document.querySelector('#df-c86249d1-aaf0-4766-9311-890b98d374be');\n",
              "          const dataTable =\n",
              "            await google.colab.kernel.invokeFunction('convertToInteractive',\n",
              "                                                     [key], {});\n",
              "          if (!dataTable) return;\n",
              "\n",
              "          const docLinkHtml = 'Like what you see? Visit the ' +\n",
              "            '<a target=\"_blank\" href=https://colab.research.google.com/notebooks/data_table.ipynb>data table notebook</a>'\n",
              "            + ' to learn more about interactive tables.';\n",
              "          element.innerHTML = '';\n",
              "          dataTable['output_type'] = 'display_data';\n",
              "          await google.colab.output.renderOutput(dataTable, element);\n",
              "          const docLink = document.createElement('div');\n",
              "          docLink.innerHTML = docLinkHtml;\n",
              "          element.appendChild(docLink);\n",
              "        }\n",
              "      </script>\n",
              "    </div>\n",
              "  </div>\n",
              "  "
            ],
            "text/plain": [
              "   duration  protocol_type  service  flag  src_bytes  dst_bytes  land  \\\n",
              "0         0              1       22     9        181       5450     0   \n",
              "1         0              1       22     9        239        486     0   \n",
              "2         0              1       22     9        235       1337     0   \n",
              "3         0              1       22     9        219       1337     0   \n",
              "4         0              1       22     9        217       2032     0   \n",
              "\n",
              "   wrong_fragment  urgent  hot  ...  dst_host_count  dst_host_srv_count  \\\n",
              "0               0       0    0  ...               9                   9   \n",
              "1               0       0    0  ...              19                  19   \n",
              "2               0       0    0  ...              29                  29   \n",
              "3               0       0    0  ...              39                  39   \n",
              "4               0       0    0  ...              49                  49   \n",
              "\n",
              "   dst_host_same_srv_rate  dst_host_diff_srv_rate  \\\n",
              "0                       1                       0   \n",
              "1                       1                       0   \n",
              "2                       1                       0   \n",
              "3                       1                       0   \n",
              "4                       1                       0   \n",
              "\n",
              "   dst_host_same_src_port_rate  dst_host_srv_diff_host_rate  \\\n",
              "0                            0                            0   \n",
              "1                            0                            0   \n",
              "2                            0                            0   \n",
              "3                            0                            0   \n",
              "4                            0                            0   \n",
              "\n",
              "   dst_host_serror_rate  dst_host_srv_serror_rate  dst_host_rerror_rate  \\\n",
              "0                     0                         0                     0   \n",
              "1                     0                         0                     0   \n",
              "2                     0                         0                     0   \n",
              "3                     0                         0                     0   \n",
              "4                     0                         0                     0   \n",
              "\n",
              "   dst_host_srv_rerror_rate  \n",
              "0                         0  \n",
              "1                         0  \n",
              "2                         0  \n",
              "3                         0  \n",
              "4                         0  \n",
              "\n",
              "[5 rows x 41 columns]"
            ]
          },
          "execution_count": 14,
          "metadata": {},
          "output_type": "execute_result"
        }
      ],
      "source": [
        "x=df.drop([\"label\"],axis=1)\n",
        "y=df[\"label\"]\n",
        "x.head()\n"
      ]
    },
    {
      "cell_type": "code",
      "execution_count": null,
      "metadata": {
        "id": "uDAzJ7zTTZrx"
      },
      "outputs": [],
      "source": [
        "from sklearn.model_selection import train_test_split\n",
        "\n"
      ]
    },
    {
      "cell_type": "code",
      "execution_count": null,
      "metadata": {
        "id": "TrlzKjzIlmQN"
      },
      "outputs": [],
      "source": [
        "x_train,x_test,y_train,y_test=train_test_split(x,y,test_size=0.2)\n"
      ]
    },
    {
      "cell_type": "code",
      "execution_count": null,
      "metadata": {
        "id": "B6jNEwTRpvr3"
      },
      "outputs": [],
      "source": [
        "from sklearn.preprocessing import StandardScaler\n",
        "scaler=StandardScaler()\n",
        "scaler.fit(x_train)\n",
        "st_x_train=scaler.transform(x_train)\n",
        "st_x_test=scaler.transform(x_test)\n",
        "\n"
      ]
    },
    {
      "cell_type": "code",
      "execution_count": null,
      "metadata": {
        "id": "dXXWHhc11hQl"
      },
      "outputs": [],
      "source": [
        "import tensorflow\n",
        "from tensorflow import keras\n",
        "from tensorflow.keras import Sequential\n",
        "from tensorflow .keras.layers import Dense"
      ]
    },
    {
      "cell_type": "code",
      "execution_count": null,
      "metadata": {
        "colab": {
          "base_uri": "https://localhost:8080/"
        },
        "id": "vCK1Osjg2fl2",
        "outputId": "67cf7cdd-26af-480e-fa6c-2a14698379df"
      },
      "outputs": [
        {
          "name": "stdout",
          "output_type": "stream",
          "text": [
            "Model: \"sequential\"\n",
            "_________________________________________________________________\n",
            " Layer (type)                Output Shape              Param #   \n",
            "=================================================================\n",
            " dense (Dense)               (None, 64)                2688      \n",
            "                                                                 \n",
            " dense_1 (Dense)             (None, 3)                 195       \n",
            "                                                                 \n",
            " dense_2 (Dense)             (None, 64)                256       \n",
            "                                                                 \n",
            " dense_3 (Dense)             (None, 41)                2665      \n",
            "                                                                 \n",
            "=================================================================\n",
            "Total params: 5,804\n",
            "Trainable params: 5,804\n",
            "Non-trainable params: 0\n",
            "_________________________________________________________________\n"
          ]
        }
      ],
      "source": [
        "model=Sequential()\n",
        "model.add(Dense(64,activation=\"relu\",input_dim=st_x_train.shape[1]))\n",
        "model.add(Dense(3,activation=\"relu\"))\n",
        "model.add(Dense(64,activation=\"relu\"))\n",
        "model.add(Dense(st_x_train.shape[1]))\n",
        "\n",
        "model.summary()"
      ]
    },
    {
      "cell_type": "code",
      "execution_count": null,
      "metadata": {
        "id": "P-ppLt6O3i-Q"
      },
      "outputs": [],
      "source": [
        "model.compile(loss='binary_crossentropy', optimizer='adam', metrics=['accuracy'])\n"
      ]
    },
    {
      "cell_type": "code",
      "execution_count": null,
      "metadata": {
        "colab": {
          "base_uri": "https://localhost:8080/"
        },
        "id": "6sKwz7J54fL-",
        "outputId": "ce022d45-8526-41fe-fb4f-f43b871a9037"
      },
      "outputs": [
        {
          "name": "stdout",
          "output_type": "stream",
          "text": [
            "Epoch 1/40\n",
            "6176/6176 [==============================] - 16s 3ms/step - loss: -1.1580 - accuracy: 0.1520\n",
            "Epoch 2/40\n",
            "6176/6176 [==============================] - 15s 2ms/step - loss: -1.2230 - accuracy: 0.1515\n",
            "Epoch 3/40\n",
            "6176/6176 [==============================] - 18s 3ms/step - loss: -1.3133 - accuracy: 0.1515\n",
            "Epoch 4/40\n",
            "6176/6176 [==============================] - 15s 2ms/step - loss: -1.3121 - accuracy: 0.1507\n",
            "Epoch 5/40\n",
            "6176/6176 [==============================] - 15s 2ms/step - loss: -1.2785 - accuracy: 0.1514\n",
            "Epoch 6/40\n",
            "6176/6176 [==============================] - 15s 2ms/step - loss: -1.2870 - accuracy: 0.1572\n",
            "Epoch 7/40\n",
            "6176/6176 [==============================] - 16s 3ms/step - loss: -1.1713 - accuracy: 0.1587\n",
            "Epoch 8/40\n",
            "6176/6176 [==============================] - 15s 2ms/step - loss: -1.1700 - accuracy: 0.1536\n",
            "Epoch 9/40\n",
            "6176/6176 [==============================] - 15s 2ms/step - loss: -1.1622 - accuracy: 0.1578\n",
            "Epoch 10/40\n",
            "6176/6176 [==============================] - 15s 2ms/step - loss: -1.1711 - accuracy: 0.1529\n",
            "Epoch 11/40\n",
            "6176/6176 [==============================] - 15s 2ms/step - loss: -1.1714 - accuracy: 0.1521\n",
            "Epoch 12/40\n",
            "6176/6176 [==============================] - 15s 2ms/step - loss: -1.1701 - accuracy: 0.1513\n",
            "Epoch 13/40\n",
            "6176/6176 [==============================] - 17s 3ms/step - loss: -1.1717 - accuracy: 0.1509\n",
            "Epoch 14/40\n",
            "6176/6176 [==============================] - 16s 3ms/step - loss: -1.1717 - accuracy: 0.1507\n",
            "Epoch 15/40\n",
            "6176/6176 [==============================] - 16s 3ms/step - loss: -1.1696 - accuracy: 0.1506\n",
            "Epoch 16/40\n",
            "6176/6176 [==============================] - 15s 2ms/step - loss: -1.1675 - accuracy: 0.1507\n",
            "Epoch 17/40\n",
            "6176/6176 [==============================] - 15s 2ms/step - loss: -1.1713 - accuracy: 0.1503\n",
            "Epoch 18/40\n",
            "6176/6176 [==============================] - 15s 2ms/step - loss: -1.1718 - accuracy: 0.1504\n",
            "Epoch 19/40\n",
            "6176/6176 [==============================] - 15s 2ms/step - loss: -1.1711 - accuracy: 0.1504\n",
            "Epoch 20/40\n",
            "6176/6176 [==============================] - 15s 2ms/step - loss: -1.1693 - accuracy: 0.1504\n",
            "Epoch 21/40\n",
            "6176/6176 [==============================] - 15s 2ms/step - loss: -1.1649 - accuracy: 0.1505\n",
            "Epoch 22/40\n",
            "6176/6176 [==============================] - 16s 3ms/step - loss: -1.1701 - accuracy: 0.1509\n",
            "Epoch 23/40\n",
            "6176/6176 [==============================] - 15s 2ms/step - loss: -1.2272 - accuracy: 0.1506\n",
            "Epoch 24/40\n",
            "6176/6176 [==============================] - 15s 2ms/step - loss: -1.3187 - accuracy: 0.1508\n",
            "Epoch 25/40\n",
            "6176/6176 [==============================] - 15s 2ms/step - loss: -1.3183 - accuracy: 0.1505\n",
            "Epoch 26/40\n",
            "6176/6176 [==============================] - 15s 2ms/step - loss: -1.3192 - accuracy: 0.1506\n",
            "Epoch 27/40\n",
            "6176/6176 [==============================] - 15s 2ms/step - loss: -1.3138 - accuracy: 0.1506\n",
            "Epoch 28/40\n",
            "6176/6176 [==============================] - 15s 2ms/step - loss: -1.2951 - accuracy: 0.1506\n",
            "Epoch 29/40\n",
            "6176/6176 [==============================] - 15s 3ms/step - loss: -1.3001 - accuracy: 0.1505\n",
            "Epoch 30/40\n",
            "6176/6176 [==============================] - 15s 3ms/step - loss: -1.2994 - accuracy: 0.1515\n",
            "Epoch 31/40\n",
            "6176/6176 [==============================] - 17s 3ms/step - loss: -1.3101 - accuracy: 0.1509\n",
            "Epoch 32/40\n",
            "6176/6176 [==============================] - 15s 2ms/step - loss: -1.3186 - accuracy: 0.1510\n",
            "Epoch 33/40\n",
            "6176/6176 [==============================] - 15s 2ms/step - loss: -1.3178 - accuracy: 0.1505\n",
            "Epoch 34/40\n",
            "6176/6176 [==============================] - 15s 2ms/step - loss: -1.3182 - accuracy: 0.1506\n",
            "Epoch 35/40\n",
            "6176/6176 [==============================] - 15s 2ms/step - loss: -1.3176 - accuracy: 0.1546\n",
            "Epoch 36/40\n",
            "6176/6176 [==============================] - 15s 2ms/step - loss: -1.3182 - accuracy: 0.1538\n",
            "Epoch 37/40\n",
            "6176/6176 [==============================] - 15s 2ms/step - loss: -1.3157 - accuracy: 0.1537\n",
            "Epoch 38/40\n",
            "6176/6176 [==============================] - 15s 2ms/step - loss: -1.3175 - accuracy: 0.1505\n",
            "Epoch 39/40\n",
            "6176/6176 [==============================] - 15s 2ms/step - loss: -1.3135 - accuracy: 0.1505\n",
            "Epoch 40/40\n",
            "6176/6176 [==============================] - 17s 3ms/step - loss: -1.3176 - accuracy: 0.1505\n"
          ]
        },
        {
          "data": {
            "text/plain": [
              "<keras.callbacks.History at 0x7fd77aed6c50>"
            ]
          },
          "execution_count": 22,
          "metadata": {},
          "output_type": "execute_result"
        }
      ],
      "source": [
        "model.fit( st_x_train,\n",
        "   st_x_train,\n",
        "    epochs=40,\n",
        "    batch_size=64\n",
        "\n",
        ")"
      ]
    },
    {
      "cell_type": "code",
      "execution_count": null,
      "metadata": {
        "id": "gYOepiaBYewi"
      },
      "outputs": [],
      "source": []
    },
    {
      "cell_type": "code",
      "execution_count": null,
      "metadata": {
        "id": "WD02kQI6qa3n"
      },
      "outputs": [],
      "source": [
        "from sklearn.metrics import accuracy_score\n",
        "from sklearn.metrics import classification_report\n",
        "from sklearn.metrics import confusion_matrix"
      ]
    },
    {
      "cell_type": "code",
      "execution_count": null,
      "metadata": {
        "colab": {
          "background_save": true
        },
        "id": "-VebsDhKIe4v",
        "outputId": "e5854c31-7f2e-43ba-8003-a9f245c9d167"
      },
      "outputs": [
        {
          "ename": "ValueError",
          "evalue": "ignored",
          "output_type": "error",
          "traceback": [
            "\u001b[0;31m---------------------------------------------------------------------------\u001b[0m",
            "\u001b[0;31mValueError\u001b[0m                                Traceback (most recent call last)",
            "\u001b[0;32m<ipython-input-27-c1f5a0f1b84e>\u001b[0m in \u001b[0;36m<cell line: 1>\u001b[0;34m()\u001b[0m\n\u001b[0;32m----> 1\u001b[0;31m \u001b[0maccuracy\u001b[0m\u001b[0;34m=\u001b[0m\u001b[0maccuracy_score\u001b[0m\u001b[0;34m(\u001b[0m\u001b[0my_test\u001b[0m\u001b[0;34m,\u001b[0m\u001b[0mtest_set_pred\u001b[0m\u001b[0;34m)\u001b[0m\u001b[0;34m\u001b[0m\u001b[0;34m\u001b[0m\u001b[0m\n\u001b[0m\u001b[1;32m      2\u001b[0m \u001b[0mrecall\u001b[0m\u001b[0;34m=\u001b[0m\u001b[0mrecall_score\u001b[0m\u001b[0;34m(\u001b[0m\u001b[0my_test\u001b[0m\u001b[0;34m,\u001b[0m\u001b[0mtest_set_pred\u001b[0m\u001b[0;34m)\u001b[0m\u001b[0;34m\u001b[0m\u001b[0;34m\u001b[0m\u001b[0m\n\u001b[1;32m      3\u001b[0m \u001b[0mprecision\u001b[0m\u001b[0;34m=\u001b[0m\u001b[0mprecision_score\u001b[0m\u001b[0;34m(\u001b[0m\u001b[0my_test\u001b[0m\u001b[0;34m,\u001b[0m\u001b[0mtest_set_pred\u001b[0m\u001b[0;34m)\u001b[0m\u001b[0;34m\u001b[0m\u001b[0;34m\u001b[0m\u001b[0m\n\u001b[1;32m      4\u001b[0m \u001b[0mf1\u001b[0m\u001b[0;34m=\u001b[0m\u001b[0mf1_score\u001b[0m\u001b[0;34m(\u001b[0m\u001b[0my_test\u001b[0m\u001b[0;34m,\u001b[0m\u001b[0mtest_set_pred\u001b[0m\u001b[0;34m)\u001b[0m\u001b[0;34m\u001b[0m\u001b[0;34m\u001b[0m\u001b[0m\n\u001b[1;32m      5\u001b[0m \u001b[0mprint\u001b[0m\u001b[0;34m(\u001b[0m\u001b[0;34m\"Performance over the testing data set \\n\"\u001b[0m\u001b[0;34m)\u001b[0m\u001b[0;34m\u001b[0m\u001b[0;34m\u001b[0m\u001b[0m\n",
            "\u001b[0;32m/usr/local/lib/python3.10/dist-packages/sklearn/utils/_param_validation.py\u001b[0m in \u001b[0;36mwrapper\u001b[0;34m(*args, **kwargs)\u001b[0m\n\u001b[1;32m    190\u001b[0m \u001b[0;34m\u001b[0m\u001b[0m\n\u001b[1;32m    191\u001b[0m             \u001b[0;32mtry\u001b[0m\u001b[0;34m:\u001b[0m\u001b[0;34m\u001b[0m\u001b[0;34m\u001b[0m\u001b[0m\n\u001b[0;32m--> 192\u001b[0;31m                 \u001b[0;32mreturn\u001b[0m \u001b[0mfunc\u001b[0m\u001b[0;34m(\u001b[0m\u001b[0;34m*\u001b[0m\u001b[0margs\u001b[0m\u001b[0;34m,\u001b[0m \u001b[0;34m**\u001b[0m\u001b[0mkwargs\u001b[0m\u001b[0;34m)\u001b[0m\u001b[0;34m\u001b[0m\u001b[0;34m\u001b[0m\u001b[0m\n\u001b[0m\u001b[1;32m    193\u001b[0m             \u001b[0;32mexcept\u001b[0m \u001b[0mInvalidParameterError\u001b[0m \u001b[0;32mas\u001b[0m \u001b[0me\u001b[0m\u001b[0;34m:\u001b[0m\u001b[0;34m\u001b[0m\u001b[0;34m\u001b[0m\u001b[0m\n\u001b[1;32m    194\u001b[0m                 \u001b[0;31m# When the function is just a wrapper around an estimator, we allow\u001b[0m\u001b[0;34m\u001b[0m\u001b[0;34m\u001b[0m\u001b[0m\n",
            "\u001b[0;32m/usr/local/lib/python3.10/dist-packages/sklearn/metrics/_classification.py\u001b[0m in \u001b[0;36maccuracy_score\u001b[0;34m(y_true, y_pred, normalize, sample_weight)\u001b[0m\n\u001b[1;32m    219\u001b[0m \u001b[0;34m\u001b[0m\u001b[0m\n\u001b[1;32m    220\u001b[0m     \u001b[0;31m# Compute accuracy for each possible representation\u001b[0m\u001b[0;34m\u001b[0m\u001b[0;34m\u001b[0m\u001b[0m\n\u001b[0;32m--> 221\u001b[0;31m     \u001b[0my_type\u001b[0m\u001b[0;34m,\u001b[0m \u001b[0my_true\u001b[0m\u001b[0;34m,\u001b[0m \u001b[0my_pred\u001b[0m \u001b[0;34m=\u001b[0m \u001b[0m_check_targets\u001b[0m\u001b[0;34m(\u001b[0m\u001b[0my_true\u001b[0m\u001b[0;34m,\u001b[0m \u001b[0my_pred\u001b[0m\u001b[0;34m)\u001b[0m\u001b[0;34m\u001b[0m\u001b[0;34m\u001b[0m\u001b[0m\n\u001b[0m\u001b[1;32m    222\u001b[0m     \u001b[0mcheck_consistent_length\u001b[0m\u001b[0;34m(\u001b[0m\u001b[0my_true\u001b[0m\u001b[0;34m,\u001b[0m \u001b[0my_pred\u001b[0m\u001b[0;34m,\u001b[0m \u001b[0msample_weight\u001b[0m\u001b[0;34m)\u001b[0m\u001b[0;34m\u001b[0m\u001b[0;34m\u001b[0m\u001b[0m\n\u001b[1;32m    223\u001b[0m     \u001b[0;32mif\u001b[0m \u001b[0my_type\u001b[0m\u001b[0;34m.\u001b[0m\u001b[0mstartswith\u001b[0m\u001b[0;34m(\u001b[0m\u001b[0;34m\"multilabel\"\u001b[0m\u001b[0;34m)\u001b[0m\u001b[0;34m:\u001b[0m\u001b[0;34m\u001b[0m\u001b[0;34m\u001b[0m\u001b[0m\n",
            "\u001b[0;32m/usr/local/lib/python3.10/dist-packages/sklearn/metrics/_classification.py\u001b[0m in \u001b[0;36m_check_targets\u001b[0;34m(y_true, y_pred)\u001b[0m\n\u001b[1;32m     84\u001b[0m     \u001b[0my_pred\u001b[0m \u001b[0;34m:\u001b[0m \u001b[0marray\u001b[0m \u001b[0;32mor\u001b[0m \u001b[0mindicator\u001b[0m \u001b[0mmatrix\u001b[0m\u001b[0;34m\u001b[0m\u001b[0;34m\u001b[0m\u001b[0m\n\u001b[1;32m     85\u001b[0m     \"\"\"\n\u001b[0;32m---> 86\u001b[0;31m     \u001b[0mcheck_consistent_length\u001b[0m\u001b[0;34m(\u001b[0m\u001b[0my_true\u001b[0m\u001b[0;34m,\u001b[0m \u001b[0my_pred\u001b[0m\u001b[0;34m)\u001b[0m\u001b[0;34m\u001b[0m\u001b[0;34m\u001b[0m\u001b[0m\n\u001b[0m\u001b[1;32m     87\u001b[0m     \u001b[0mtype_true\u001b[0m \u001b[0;34m=\u001b[0m \u001b[0mtype_of_target\u001b[0m\u001b[0;34m(\u001b[0m\u001b[0my_true\u001b[0m\u001b[0;34m,\u001b[0m \u001b[0minput_name\u001b[0m\u001b[0;34m=\u001b[0m\u001b[0;34m\"y_true\"\u001b[0m\u001b[0;34m)\u001b[0m\u001b[0;34m\u001b[0m\u001b[0;34m\u001b[0m\u001b[0m\n\u001b[1;32m     88\u001b[0m     \u001b[0mtype_pred\u001b[0m \u001b[0;34m=\u001b[0m \u001b[0mtype_of_target\u001b[0m\u001b[0;34m(\u001b[0m\u001b[0my_pred\u001b[0m\u001b[0;34m,\u001b[0m \u001b[0minput_name\u001b[0m\u001b[0;34m=\u001b[0m\u001b[0;34m\"y_pred\"\u001b[0m\u001b[0;34m)\u001b[0m\u001b[0;34m\u001b[0m\u001b[0;34m\u001b[0m\u001b[0m\n",
            "\u001b[0;32m/usr/local/lib/python3.10/dist-packages/sklearn/utils/validation.py\u001b[0m in \u001b[0;36mcheck_consistent_length\u001b[0;34m(*arrays)\u001b[0m\n\u001b[1;32m    395\u001b[0m     \u001b[0muniques\u001b[0m \u001b[0;34m=\u001b[0m \u001b[0mnp\u001b[0m\u001b[0;34m.\u001b[0m\u001b[0munique\u001b[0m\u001b[0;34m(\u001b[0m\u001b[0mlengths\u001b[0m\u001b[0;34m)\u001b[0m\u001b[0;34m\u001b[0m\u001b[0;34m\u001b[0m\u001b[0m\n\u001b[1;32m    396\u001b[0m     \u001b[0;32mif\u001b[0m \u001b[0mlen\u001b[0m\u001b[0;34m(\u001b[0m\u001b[0muniques\u001b[0m\u001b[0;34m)\u001b[0m \u001b[0;34m>\u001b[0m \u001b[0;36m1\u001b[0m\u001b[0;34m:\u001b[0m\u001b[0;34m\u001b[0m\u001b[0;34m\u001b[0m\u001b[0m\n\u001b[0;32m--> 397\u001b[0;31m         raise ValueError(\n\u001b[0m\u001b[1;32m    398\u001b[0m             \u001b[0;34m\"Found input variables with inconsistent numbers of samples: %r\"\u001b[0m\u001b[0;34m\u001b[0m\u001b[0;34m\u001b[0m\u001b[0m\n\u001b[1;32m    399\u001b[0m             \u001b[0;34m%\u001b[0m \u001b[0;34m[\u001b[0m\u001b[0mint\u001b[0m\u001b[0;34m(\u001b[0m\u001b[0ml\u001b[0m\u001b[0;34m)\u001b[0m \u001b[0;32mfor\u001b[0m \u001b[0ml\u001b[0m \u001b[0;32min\u001b[0m \u001b[0mlengths\u001b[0m\u001b[0;34m]\u001b[0m\u001b[0;34m\u001b[0m\u001b[0;34m\u001b[0m\u001b[0m\n",
            "\u001b[0;31mValueError\u001b[0m: Found input variables with inconsistent numbers of samples: [98804, 395216]"
          ]
        }
      ],
      "source": [
        "accuracy=accuracy_score(y_test,test_set_pred)\n",
        "recall=recall_score(y_test,test_set_pred)\n",
        "precision=precision_score(y_test,test_set_pred)\n",
        "f1=f1_score(y_test,test_set_pred)\n",
        "print(\"Performance over the testing data set \\n\")\n",
        "print(\"Accuracy : {} , Recall : {} , Precision : {} , F1 : {}\\n\".format(accuracy,recall,precision,f1 ))\n",
        "\n",
        "\n",
        "for class_ in classes:\n",
        "    print(class_+\" Detection Rate : {}\".format(len(np.where(np.logical_and(test_set_pred==1 , y_test)))/len(np.where(y_test))))"
      ]
    },
    {
      "cell_type": "code",
      "execution_count": null,
      "metadata": {
        "colab": {
          "base_uri": "https://localhost:8080/",
          "height": 252
        },
        "id": "XpFlE8leb5pK",
        "outputId": "14e52bba-b695-4603-a9ab-00a66ce577ab"
      },
      "outputs": [
        {
          "name": "stdout",
          "output_type": "stream",
          "text": [
            "12351/12351 [==============================] - 22s 2ms/step\n"
          ]
        },
        {
          "ename": "NameError",
          "evalue": "ignored",
          "output_type": "error",
          "traceback": [
            "\u001b[0;31m---------------------------------------------------------------------------\u001b[0m",
            "\u001b[0;31mNameError\u001b[0m                                 Traceback (most recent call last)",
            "\u001b[0;32m<ipython-input-26-5348a576a99e>\u001b[0m in \u001b[0;36m<cell line: 2>\u001b[0;34m()\u001b[0m\n\u001b[1;32m      1\u001b[0m \u001b[0mtest_set_pred\u001b[0m\u001b[0;34m=\u001b[0m\u001b[0mmodel\u001b[0m\u001b[0;34m.\u001b[0m\u001b[0mpredict\u001b[0m\u001b[0;34m(\u001b[0m\u001b[0mst_x_train\u001b[0m\u001b[0;34m)\u001b[0m\u001b[0;34m\u001b[0m\u001b[0;34m\u001b[0m\u001b[0m\n\u001b[0;32m----> 2\u001b[0;31m \u001b[0mtest_losses\u001b[0m\u001b[0;34m=\u001b[0m\u001b[0mcalculate_losses\u001b[0m\u001b[0;34m(\u001b[0m\u001b[0mst_x_train\u001b[0m\u001b[0;34m,\u001b[0m\u001b[0mtest_set_pred\u001b[0m\u001b[0;34m)\u001b[0m\u001b[0;34m\u001b[0m\u001b[0;34m\u001b[0m\u001b[0m\n\u001b[0m\u001b[1;32m      3\u001b[0m \u001b[0mtest_set_pred\u001b[0m\u001b[0;34m=\u001b[0m\u001b[0mnp\u001b[0m\u001b[0;34m.\u001b[0m\u001b[0mzeros\u001b[0m\u001b[0;34m(\u001b[0m\u001b[0mlen\u001b[0m\u001b[0;34m(\u001b[0m\u001b[0mtest_losses\u001b[0m\u001b[0;34m)\u001b[0m\u001b[0;34m)\u001b[0m\u001b[0;34m\u001b[0m\u001b[0;34m\u001b[0m\u001b[0m\n\u001b[1;32m      4\u001b[0m \u001b[0mtest_set_pred\u001b[0m\u001b[0;34m[\u001b[0m\u001b[0mnp\u001b[0m\u001b[0;34m.\u001b[0m\u001b[0mwhere\u001b[0m\u001b[0;34m(\u001b[0m\u001b[0mtest_losses\u001b[0m\u001b[0;34m>\u001b[0m\u001b[0mthreshold\u001b[0m\u001b[0;34m)\u001b[0m\u001b[0;34m]\u001b[0m\u001b[0;34m=\u001b[0m\u001b[0;36m1\u001b[0m\u001b[0;34m\u001b[0m\u001b[0;34m\u001b[0m\u001b[0m\n\u001b[1;32m      5\u001b[0m \u001b[0;31m#test_set_pred=mlp.predict(x_train)\u001b[0m\u001b[0;34m\u001b[0m\u001b[0;34m\u001b[0m\u001b[0m\n",
            "\u001b[0;31mNameError\u001b[0m: name 'calculate_losses' is not defined"
          ]
        }
      ],
      "source": [
        "test_set_pred=model.predict(st_x_train)\n",
        "test_losses=calculate_losses(st_x_train,test_set_pred)\n",
        "test_set_pred=np.zeros(len(test_losses))\n",
        "test_set_pred[np.where(test_losses>threshold)]=1\n",
        "#test_set_pred=mlp.predict(x_train)"
      ]
    },
    {
      "cell_type": "code",
      "execution_count": null,
      "metadata": {
        "id": "udZ4x2PYp9HU"
      },
      "outputs": [],
      "source": [
        "accuracy=accuracy_score(y_test,test_set_pred)\n",
        "recall=recall_score(y_test,test_set_pred)\n",
        "precision=precision_score(y_test,test_set_pred)\n",
        "f1=f1_score(y_test,test_set_pred)\n",
        "print(accuracy_score(y_test,prediction))\n",
        "print(confusion_matrix(y_test,prediction))\n",
        "print(classification_report(y_test,prediction))\n"
      ]
    },
    {
      "cell_type": "code",
      "execution_count": null,
      "metadata": {
        "id": "XhR04yr3NjD0"
      },
      "outputs": [],
      "source": [
        "import tensorflow as tf\n",
        "from tensorflow.keras import layers\n",
        "input_shape=(64,64,3)\n",
        "latent_dim = 128\n",
        "\n",
        "# Define the model architecture\n",
        "def  asymmetric_parallel_autoencoder():\n",
        "    inputs = tf.keras.Input(shape=(input_shape)) # Define the input shape\n",
        "\n",
        "    # Encoder\n",
        "    x = layers.Conv2D(filters=64, kernel_size=3, activation='relu', padding='same')(inputs)\n",
        "    x = layers.Conv2D(filters=64, kernel_size=3, activation='relu', padding='same')(st_x_train)\n",
        "    x = layers.MaxPooling2D(pool_size=2)(st_x_train)\n",
        "\n",
        "    # Dilated Convolutional Filters\n",
        "    x = layers.Conv2D(filters=64, kernel_size=3, activation='relu', dilation_rate=2, padding='same')(st_x_train)\n",
        "    x = layers.Conv2D(filters=64, kernel_size=3, activation='relu', dilation_rate=2, padding='same')(st_x_train)\n",
        "\n",
        "    # Standard Convolutional Filters\n",
        "    x = layers.Conv2D(filters=64, kernel_size=3, activation='relu', padding='same')(st_x_train)\n",
        "    x = layers.Conv2D(filters=64, kernel_size=3, activation='relu', padding='same')(st_x_train)\n",
        "\n",
        "    # Positional Self-Attention\n",
        "    x = layers.Attention()([st_x_train, st_x_train])\n",
        "\n",
        "    # Self-Attention Module\n",
        "    x = layers.MultiHeadAttention(num_heads=8, key_dim=64)(x, x)\n",
        "\n",
        "    # Decoder\n",
        "    x = layers.UpSampling2D(size=2)(x)\n",
        "    x = layers.Conv2D(filters=64, kernel_size=3, activation='relu', padding='same')(x)\n",
        "    outputs = layers.Conv2D(filters=3, kernel_size=1, activation='softmax')(x)  # Change num_classes accordingly\n",
        "\n",
        "    model = tf.keras.Model(inputs=inputs, outputs=outputs)\n",
        "    return model\n",
        "\n",
        "# Define hyperparameters\n",
        "learning_rate = 0.001\n",
        "epochs = 40\n",
        "\n",
        "# Create the model\n",
        "model =  asymmetric_parallel_autoencoder()\n",
        "\n",
        "# Define the optimizer\n",
        "optimizer = tf.keras.optimizers.Adam(learning_rate=learning_rate)\n",
        "\n",
        "# Compile the model\n",
        "model.compile(optimizer=optimizer, loss='categorical_crossentropy', metrics=['accuracy'])\n",
        "\n",
        "# Print the model summary\n",
        "model.summary\n",
        "model.fit(st_x_train, st_x_train, epochs=10, batch_size=64)\n"
      ]
    },
    {
      "cell_type": "code",
      "execution_count": null,
      "metadata": {
        "id": "tdAoP8DUPmZk"
      },
      "outputs": [],
      "source": [
        "#to know object datatypes\n",
        "#df.select_dtypes(include=['object']).columns.tolist()"
      ]
    },
    {
      "cell_type": "markdown",
      "metadata": {
        "id": "XfMEv0Jftduw"
      },
      "source": [
        "Construct model\n",
        "Contruct the autoencoder, and training it.\n",
        "\n"
      ]
    },
    {
      "cell_type": "code",
      "execution_count": null,
      "metadata": {
        "id": "Khhqel6ups86"
      },
      "outputs": [],
      "source": [
        "# strip is used to remove word from dataset which disturbs preprocessing\n",
        "#df = 'udp'.strip('udp')\n"
      ]
    },
    {
      "cell_type": "code",
      "execution_count": null,
      "metadata": {
        "id": "NqxdLKvSUY9K"
      },
      "outputs": [],
      "source": [
        "#to know numeric dtypes\n",
        "#catCols = df.select_dtypes(\"number\")\n",
        "#catCols"
      ]
    }
  ],
  "metadata": {
    "colab": {
      "provenance": [],
      "mount_file_id": "1jlKtnHCGq2LOY1BBn3EsfhmzS7ihOsoO",
      "authorship_tag": "ABX9TyPsE6YiQWwHdCsDaHeSMWRF",
      "include_colab_link": true
    },
    "kernelspec": {
      "display_name": "Python 3",
      "name": "python3"
    },
    "language_info": {
      "name": "python"
    }
  },
  "nbformat": 4,
  "nbformat_minor": 0
}